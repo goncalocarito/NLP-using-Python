{
  "cells": [
    {
      "cell_type": "markdown",
      "metadata": {
        "id": "view-in-github",
        "colab_type": "text"
      },
      "source": [
        "<a href=\"https://colab.research.google.com/github/goncalocarito/NLP-using-Python/blob/master/01_python_refresher.ipynb\" target=\"_parent\"><img src=\"https://colab.research.google.com/assets/colab-badge.svg\" alt=\"Open In Colab\"/></a>"
      ]
    },
    {
      "cell_type": "markdown",
      "metadata": {
        "id": "1Av_csE7q6gw"
      },
      "source": [
        "# Python Refresher"
      ]
    },
    {
      "cell_type": "code",
      "source": [
        "%ls ../"
      ],
      "metadata": {
        "colab": {
          "base_uri": "https://localhost:8080/"
        },
        "id": "hdcJd5YeV8tF",
        "outputId": "1e29a1eb-53ab-44ee-bf6f-1510e3d2847d"
      },
      "execution_count": null,
      "outputs": [
        {
          "output_type": "stream",
          "name": "stdout",
          "text": [
            "\u001b[0m\u001b[01;34mbin\u001b[0m/      \u001b[01;34mdev\u001b[0m/   \u001b[01;34mlib32\u001b[0m/  \u001b[01;34mopt\u001b[0m/         \u001b[01;34mrun\u001b[0m/   \u001b[01;34mtensorflow-1.15.2\u001b[0m/  \u001b[01;34mvar\u001b[0m/\n",
            "\u001b[01;34mboot\u001b[0m/     \u001b[01;34metc\u001b[0m/   \u001b[01;34mlib64\u001b[0m/  \u001b[01;34mproc\u001b[0m/        \u001b[01;34msbin\u001b[0m/  \u001b[30;42mtmp\u001b[0m/\n",
            "\u001b[01;34mcontent\u001b[0m/  \u001b[01;34mhome\u001b[0m/  \u001b[01;34mmedia\u001b[0m/  \u001b[01;34mpython-apt\u001b[0m/  \u001b[01;34msrv\u001b[0m/   \u001b[01;34mtools\u001b[0m/\n",
            "\u001b[01;34mdatalab\u001b[0m/  \u001b[01;34mlib\u001b[0m/   \u001b[01;34mmnt\u001b[0m/    \u001b[01;34mroot\u001b[0m/        \u001b[01;34msys\u001b[0m/   \u001b[01;34musr\u001b[0m/\n"
          ]
        }
      ]
    },
    {
      "cell_type": "code",
      "execution_count": null,
      "metadata": {
        "colab": {
          "base_uri": "https://localhost:8080/"
        },
        "id": "cUsupXNhq6hB",
        "outputId": "acdc6593-0194-447d-d790-617f9b006caf"
      },
      "outputs": [
        {
          "output_type": "stream",
          "name": "stdout",
          "text": [
            "Welcome to Text Mining\n"
          ]
        }
      ],
      "source": [
        "print(\"Welcome to Text Mining\")"
      ]
    },
    {
      "cell_type": "markdown",
      "metadata": {
        "id": "OL5zH7spq6hH"
      },
      "source": [
        "## Basic Math Operations"
      ]
    },
    {
      "cell_type": "code",
      "execution_count": null,
      "metadata": {
        "colab": {
          "base_uri": "https://localhost:8080/"
        },
        "id": "1j2GuoVaq6hI",
        "outputId": "0a9d968d-be02-45a6-ab87-2bdac7d378b8"
      },
      "outputs": [
        {
          "output_type": "execute_result",
          "data": {
            "text/plain": [
              "8"
            ]
          },
          "metadata": {},
          "execution_count": 2
        }
      ],
      "source": [
        "3+5"
      ]
    },
    {
      "cell_type": "code",
      "execution_count": null,
      "metadata": {
        "colab": {
          "base_uri": "https://localhost:8080/"
        },
        "id": "1x9heH74q6hL",
        "outputId": "7ec4955b-1249-475e-f99e-228d1c18b46e"
      },
      "outputs": [
        {
          "output_type": "execute_result",
          "data": {
            "text/plain": [
              "15"
            ]
          },
          "metadata": {},
          "execution_count": 3
        }
      ],
      "source": [
        "3*5"
      ]
    },
    {
      "cell_type": "code",
      "execution_count": null,
      "metadata": {
        "colab": {
          "base_uri": "https://localhost:8080/"
        },
        "id": "yWjwZYTfq6hM",
        "outputId": "114fdf71-2078-43fb-a71f-504608ce1463"
      },
      "outputs": [
        {
          "output_type": "execute_result",
          "data": {
            "text/plain": [
              "-2"
            ]
          },
          "metadata": {},
          "execution_count": 4
        }
      ],
      "source": [
        "3-5"
      ]
    },
    {
      "cell_type": "code",
      "execution_count": null,
      "metadata": {
        "colab": {
          "base_uri": "https://localhost:8080/"
        },
        "id": "6MG3OFs2q6hO",
        "outputId": "d877f83e-29d8-4914-c9b8-0ec5f4e4ae89"
      },
      "outputs": [
        {
          "output_type": "execute_result",
          "data": {
            "text/plain": [
              "2"
            ]
          },
          "metadata": {},
          "execution_count": 5
        }
      ],
      "source": [
        "5-3"
      ]
    },
    {
      "cell_type": "code",
      "execution_count": null,
      "metadata": {
        "colab": {
          "base_uri": "https://localhost:8080/"
        },
        "id": "UJc8Sd50q6hQ",
        "outputId": "d4d3cfe1-0faa-4649-a6d9-b19d3e4ee8f3"
      },
      "outputs": [
        {
          "output_type": "execute_result",
          "data": {
            "text/plain": [
              "243"
            ]
          },
          "metadata": {},
          "execution_count": 7
        }
      ],
      "source": [
        "3**5"
      ]
    },
    {
      "cell_type": "code",
      "execution_count": null,
      "metadata": {
        "colab": {
          "base_uri": "https://localhost:8080/"
        },
        "id": "aPwZfSLfq6hR",
        "outputId": "77433bcb-b00d-477f-d1d6-e94d97152037"
      },
      "outputs": [
        {
          "output_type": "execute_result",
          "data": {
            "text/plain": [
              "0.6"
            ]
          },
          "metadata": {},
          "execution_count": 8
        }
      ],
      "source": [
        "3/5"
      ]
    },
    {
      "cell_type": "markdown",
      "metadata": {
        "tags": [],
        "id": "e6LzOYXfq6hU"
      },
      "source": [
        "# Data Structures"
      ]
    },
    {
      "cell_type": "markdown",
      "metadata": {
        "id": "NUv9d0sNq6hW"
      },
      "source": [
        "## String Variables"
      ]
    },
    {
      "cell_type": "code",
      "execution_count": null,
      "metadata": {
        "id": "JqbWyQXrq6hX"
      },
      "outputs": [],
      "source": [
        "first = 'Text'\n",
        "last = 'Mining'"
      ]
    },
    {
      "cell_type": "code",
      "execution_count": null,
      "metadata": {
        "colab": {
          "base_uri": "https://localhost:8080/",
          "height": 35
        },
        "id": "oLYNq31Gq6hY",
        "outputId": "1d968836-daae-4239-b1d6-c310911a6b88"
      },
      "outputs": [
        {
          "output_type": "execute_result",
          "data": {
            "application/vnd.google.colaboratory.intrinsic+json": {
              "type": "string"
            },
            "text/plain": [
              "'Text'"
            ]
          },
          "metadata": {},
          "execution_count": 10
        }
      ],
      "source": [
        "first"
      ]
    },
    {
      "cell_type": "code",
      "execution_count": null,
      "metadata": {
        "colab": {
          "base_uri": "https://localhost:8080/"
        },
        "id": "FIq5AKLVq6hZ",
        "outputId": "9f466504-49df-46a7-dc81-20dec70148bb"
      },
      "outputs": [
        {
          "output_type": "stream",
          "name": "stdout",
          "text": [
            "4\n",
            "6\n"
          ]
        }
      ],
      "source": [
        "print(len(first)); print(len(last))"
      ]
    },
    {
      "cell_type": "code",
      "execution_count": null,
      "metadata": {
        "id": "H1w6voclq6ha"
      },
      "outputs": [],
      "source": [
        "full = first + ' ' + last"
      ]
    },
    {
      "cell_type": "code",
      "execution_count": null,
      "metadata": {
        "colab": {
          "base_uri": "https://localhost:8080/",
          "height": 35
        },
        "id": "pdS2icR1q6hb",
        "outputId": "00c6ecd2-9d3c-40f2-f190-5f6ea8712529"
      },
      "outputs": [
        {
          "output_type": "execute_result",
          "data": {
            "application/vnd.google.colaboratory.intrinsic+json": {
              "type": "string"
            },
            "text/plain": [
              "'Text Mining'"
            ]
          },
          "metadata": {},
          "execution_count": 13
        }
      ],
      "source": [
        "full"
      ]
    },
    {
      "cell_type": "code",
      "execution_count": null,
      "metadata": {
        "scrolled": true,
        "colab": {
          "base_uri": "https://localhost:8080/"
        },
        "id": "_zU0qoqkq6hc",
        "outputId": "958d3763-5a1a-4b9b-e0ef-3e2aec395202"
      },
      "outputs": [
        {
          "output_type": "stream",
          "name": "stdout",
          "text": [
            "Text Mining\n"
          ]
        }
      ],
      "source": [
        "print(full)"
      ]
    },
    {
      "cell_type": "code",
      "execution_count": null,
      "metadata": {
        "colab": {
          "base_uri": "https://localhost:8080/"
        },
        "id": "FFw6lngIq6hd",
        "outputId": "273d3443-2557-4c84-a833-46c3fd4d789e"
      },
      "outputs": [
        {
          "output_type": "execute_result",
          "data": {
            "text/plain": [
              "11"
            ]
          },
          "metadata": {},
          "execution_count": 15
        }
      ],
      "source": [
        "len(full)"
      ]
    },
    {
      "cell_type": "markdown",
      "metadata": {
        "id": "PiD3vXuLq6he"
      },
      "source": [
        "### Line rules"
      ]
    },
    {
      "cell_type": "code",
      "execution_count": null,
      "metadata": {
        "colab": {
          "base_uri": "https://localhost:8080/"
        },
        "id": "gKli_LDaq6hh",
        "outputId": "6a9f5d95-2b32-4b79-ff98-8139982880dd"
      },
      "outputs": [
        {
          "output_type": "stream",
          "name": "stdout",
          "text": [
            "Line1 Line2\n"
          ]
        }
      ],
      "source": [
        "print(\"Line1 Line2\")"
      ]
    },
    {
      "cell_type": "code",
      "execution_count": null,
      "metadata": {
        "colab": {
          "base_uri": "https://localhost:8080/",
          "height": 130
        },
        "id": "8h8P5cieq6hi",
        "outputId": "90c7e0d0-5a0c-4b3f-f88e-115ca8fb2014"
      },
      "outputs": [
        {
          "output_type": "error",
          "ename": "SyntaxError",
          "evalue": "ignored",
          "traceback": [
            "\u001b[0;36m  File \u001b[0;32m\"<ipython-input-21-12ecf00fd1f0>\"\u001b[0;36m, line \u001b[0;32m1\u001b[0m\n\u001b[0;31m    print('Line1\u001b[0m\n\u001b[0m                ^\u001b[0m\n\u001b[0;31mSyntaxError\u001b[0m\u001b[0;31m:\u001b[0m EOL while scanning string literal\n"
          ]
        }
      ],
      "source": [
        "print('Line1\n",
        "      line2')"
      ]
    },
    {
      "cell_type": "code",
      "execution_count": null,
      "metadata": {
        "colab": {
          "base_uri": "https://localhost:8080/"
        },
        "id": "P6nrL017q6hj",
        "outputId": "89bd2b4e-27d1-476d-bf4a-9a706ec730c1"
      },
      "outputs": [
        {
          "output_type": "stream",
          "name": "stdout",
          "text": [
            "Line1\n",
            "Line2\n"
          ]
        }
      ],
      "source": [
        "print('Line1\\nLine2')"
      ]
    },
    {
      "cell_type": "code",
      "execution_count": null,
      "metadata": {
        "colab": {
          "base_uri": "https://localhost:8080/"
        },
        "id": "2beuBxfcq6hj",
        "outputId": "448f7f94-f466-495e-98fd-d6f4f4f8649f"
      },
      "outputs": [
        {
          "output_type": "stream",
          "name": "stdout",
          "text": [
            "Long Text 1\n",
            "Long Text 2\n"
          ]
        }
      ],
      "source": [
        "print(\"\"\"Long Text 1\n",
        "Long Text 2\"\"\")"
      ]
    },
    {
      "cell_type": "markdown",
      "metadata": {
        "id": "1Hh5Q6ofq6hl"
      },
      "source": [
        "### Formating Strings\n",
        "\n",
        "Isto está um bocado desatualizado..."
      ]
    },
    {
      "cell_type": "code",
      "execution_count": null,
      "metadata": {
        "colab": {
          "base_uri": "https://localhost:8080/"
        },
        "id": "Pt04LJLeq6hl",
        "outputId": "ed807222-028c-494e-e1ef-a431fecd75e7"
      },
      "outputs": [
        {
          "output_type": "stream",
          "name": "stdout",
          "text": [
            "Welcome to Text Mining\n"
          ]
        }
      ],
      "source": [
        "course = 'Text Mining'\n",
        "print('Welcome to {}'.format(course))"
      ]
    },
    {
      "cell_type": "code",
      "execution_count": null,
      "metadata": {
        "colab": {
          "base_uri": "https://localhost:8080/"
        },
        "id": "HvXY1p68q6hm",
        "outputId": "affd1a1c-a28a-4baa-fa2e-32fd8d79fc1d"
      },
      "outputs": [
        {
          "output_type": "stream",
          "name": "stdout",
          "text": [
            "Welcome to Text Mining\n"
          ]
        }
      ],
      "source": [
        "print('Welcome to {} {}'.format(first, last))"
      ]
    },
    {
      "cell_type": "code",
      "source": [
        "print(f\"Welcome to {course}\")"
      ],
      "metadata": {
        "colab": {
          "base_uri": "https://localhost:8080/"
        },
        "id": "oEl8-eaTso0O",
        "outputId": "5296362e-f6e8-42e4-e31a-e6c589a1d54a"
      },
      "execution_count": null,
      "outputs": [
        {
          "output_type": "stream",
          "name": "stdout",
          "text": [
            "Welcome to Text Mining\n"
          ]
        }
      ]
    },
    {
      "cell_type": "code",
      "source": [
        "print(f\"Welcome to {first} {last}\")"
      ],
      "metadata": {
        "colab": {
          "base_uri": "https://localhost:8080/"
        },
        "id": "BaA7Zbxtsv2a",
        "outputId": "14f2caa2-4365-4162-d428-622f5ffc2824"
      },
      "execution_count": null,
      "outputs": [
        {
          "output_type": "stream",
          "name": "stdout",
          "text": [
            "Welcome to Text Mining\n"
          ]
        }
      ]
    },
    {
      "cell_type": "markdown",
      "metadata": {
        "id": "BuJg-Fiiq6hm"
      },
      "source": [
        "## Lists"
      ]
    },
    {
      "cell_type": "code",
      "execution_count": null,
      "metadata": {
        "id": "iiKrBbG5q6hn"
      },
      "outputs": [],
      "source": [
        "countries = ['Portugal', 'Spain', 'Brasil']"
      ]
    },
    {
      "cell_type": "code",
      "source": [
        "countries"
      ],
      "metadata": {
        "id": "duRbS1LHxC2X"
      },
      "execution_count": null,
      "outputs": []
    },
    {
      "cell_type": "markdown",
      "metadata": {
        "id": "RNVXZ38Jq6ho"
      },
      "source": [
        "### Elements"
      ]
    },
    {
      "cell_type": "code",
      "execution_count": null,
      "metadata": {
        "colab": {
          "base_uri": "https://localhost:8080/"
        },
        "id": "BTpJsj6pq6ho",
        "outputId": "b4b896cb-1a3e-42ab-9418-85eb23954827"
      },
      "outputs": [
        {
          "output_type": "execute_result",
          "data": {
            "text/plain": [
              "('Portugal', 'Spain', 'Brasil')"
            ]
          },
          "metadata": {},
          "execution_count": 33
        }
      ],
      "source": [
        "countries[0], countries[1], countries[2]"
      ]
    },
    {
      "cell_type": "code",
      "execution_count": null,
      "metadata": {
        "colab": {
          "base_uri": "https://localhost:8080/"
        },
        "id": "YVHS-ha3q6hp",
        "outputId": "409bdc87-0c5d-45ac-ac1a-b5319c8ac59f"
      },
      "outputs": [
        {
          "output_type": "execute_result",
          "data": {
            "text/plain": [
              "('Brasil', 'Spain')"
            ]
          },
          "metadata": {},
          "execution_count": 34
        }
      ],
      "source": [
        "countries[-1], countries[-2]"
      ]
    },
    {
      "cell_type": "code",
      "source": [
        "countries[0][0:len(countries[0])] == countries[0]"
      ],
      "metadata": {
        "colab": {
          "base_uri": "https://localhost:8080/"
        },
        "id": "Pm9RrNxzuEjp",
        "outputId": "0afe8172-ed60-4db6-a7bf-b61a38f469ea"
      },
      "execution_count": null,
      "outputs": [
        {
          "output_type": "execute_result",
          "data": {
            "text/plain": [
              "True"
            ]
          },
          "metadata": {},
          "execution_count": 38
        }
      ]
    },
    {
      "cell_type": "markdown",
      "metadata": {
        "id": "2VkHT_2Pq6hp"
      },
      "source": [
        "### Slicing"
      ]
    },
    {
      "cell_type": "markdown",
      "metadata": {
        "id": "mJKb1G4oq6hq"
      },
      "source": [
        "https://www.geeksforgeeks.org/python-list-slicing/"
      ]
    },
    {
      "cell_type": "code",
      "execution_count": null,
      "metadata": {
        "colab": {
          "base_uri": "https://localhost:8080/"
        },
        "id": "kIcA9R33q6hq",
        "outputId": "a43f0ce6-0cc8-4fc7-ec17-36ca7ee46236"
      },
      "outputs": [
        {
          "output_type": "execute_result",
          "data": {
            "text/plain": [
              "['Portugal', 'Spain', 'Brasil']"
            ]
          },
          "metadata": {},
          "execution_count": 39
        }
      ],
      "source": [
        "countries[0:3]"
      ]
    },
    {
      "cell_type": "code",
      "execution_count": null,
      "metadata": {
        "colab": {
          "base_uri": "https://localhost:8080/"
        },
        "id": "yqNnBzV5q6hr",
        "outputId": "08d118a6-ff34-4eb6-e7f4-5aa681fdd41e"
      },
      "outputs": [
        {
          "output_type": "execute_result",
          "data": {
            "text/plain": [
              "['Brasil']"
            ]
          },
          "metadata": {},
          "execution_count": 40
        }
      ],
      "source": [
        "countries[-1:]"
      ]
    },
    {
      "cell_type": "markdown",
      "metadata": {
        "id": "Tft82P4xq6hs"
      },
      "source": [
        "## List methods"
      ]
    },
    {
      "cell_type": "markdown",
      "metadata": {
        "id": "6OJamdoHq6ht"
      },
      "source": [
        "https://www.w3schools.com/python/python_ref_list.asp"
      ]
    },
    {
      "cell_type": "markdown",
      "metadata": {
        "tags": [],
        "id": "RTORlAwCq6hu"
      },
      "source": [
        "### sort()"
      ]
    },
    {
      "cell_type": "code",
      "execution_count": null,
      "metadata": {
        "colab": {
          "base_uri": "https://localhost:8080/"
        },
        "id": "mFhRC6x2q6hv",
        "outputId": "71ce3bcf-aa74-4611-bc23-b729d2bd0e4a"
      },
      "outputs": [
        {
          "output_type": "execute_result",
          "data": {
            "text/plain": [
              "['Brasil', 'Portugal', 'Spain']"
            ]
          },
          "metadata": {},
          "execution_count": 41
        }
      ],
      "source": [
        "countries.sort()\n",
        "countries"
      ]
    },
    {
      "cell_type": "code",
      "execution_count": null,
      "metadata": {
        "id": "cSGKEhZ6q6hw"
      },
      "outputs": [],
      "source": [
        "countries.sort?"
      ]
    },
    {
      "cell_type": "code",
      "source": [
        "countries.sort(reverse=True)\n",
        "countries"
      ],
      "metadata": {
        "colab": {
          "base_uri": "https://localhost:8080/"
        },
        "id": "HBDeHAliugv0",
        "outputId": "003615e4-a118-4527-88fd-3ae8247ff886"
      },
      "execution_count": null,
      "outputs": [
        {
          "output_type": "execute_result",
          "data": {
            "text/plain": [
              "['Spain', 'Portugal', 'Brasil']"
            ]
          },
          "metadata": {},
          "execution_count": 44
        }
      ]
    },
    {
      "cell_type": "markdown",
      "metadata": {
        "id": "BWm0CD-dq6hw"
      },
      "source": [
        "### append()"
      ]
    },
    {
      "cell_type": "code",
      "execution_count": null,
      "metadata": {
        "colab": {
          "base_uri": "https://localhost:8080/"
        },
        "id": "XOuvKv3lq6hx",
        "outputId": "f710e81c-da01-44ef-d934-ed252211ec59"
      },
      "outputs": [
        {
          "output_type": "execute_result",
          "data": {
            "text/plain": [
              "['Spain', 'Portugal', 'Brasil', 'France']"
            ]
          },
          "metadata": {},
          "execution_count": 46
        }
      ],
      "source": [
        "countries.append('France')\n",
        "countries"
      ]
    },
    {
      "cell_type": "code",
      "execution_count": null,
      "metadata": {
        "colab": {
          "base_uri": "https://localhost:8080/",
          "height": 165
        },
        "id": "4HIjtX1Sq6hx",
        "outputId": "ebe83e6b-2add-4892-a95a-c492bd9727da"
      },
      "outputs": [
        {
          "output_type": "error",
          "ename": "TypeError",
          "evalue": "ignored",
          "traceback": [
            "\u001b[0;31m---------------------------------------------------------------------------\u001b[0m",
            "\u001b[0;31mTypeError\u001b[0m                                 Traceback (most recent call last)",
            "\u001b[0;32m<ipython-input-47-eb0706cae200>\u001b[0m in \u001b[0;36m<module>\u001b[0;34m()\u001b[0m\n\u001b[0;32m----> 1\u001b[0;31m \u001b[0mcountries\u001b[0m\u001b[0;34m.\u001b[0m\u001b[0mappend\u001b[0m\u001b[0;34m(\u001b[0m\u001b[0;34m'Canada'\u001b[0m\u001b[0;34m,\u001b[0m \u001b[0;34m'Belgium'\u001b[0m\u001b[0;34m)\u001b[0m\u001b[0;34m\u001b[0m\u001b[0;34m\u001b[0m\u001b[0m\n\u001b[0m",
            "\u001b[0;31mTypeError\u001b[0m: append() takes exactly one argument (2 given)"
          ]
        }
      ],
      "source": [
        "countries.append('Canada', 'Belgium')"
      ]
    },
    {
      "cell_type": "code",
      "execution_count": null,
      "metadata": {
        "colab": {
          "base_uri": "https://localhost:8080/"
        },
        "id": "f-mTbkjRq6hy",
        "outputId": "0d63f4e9-870e-4b47-a3db-62fe6095a577"
      },
      "outputs": [
        {
          "output_type": "execute_result",
          "data": {
            "text/plain": [
              "['Spain', 'Portugal', 'Brasil', 'France', ['Canada', 'Belgium']]"
            ]
          },
          "metadata": {},
          "execution_count": 48
        }
      ],
      "source": [
        "new_countries = ['Canada', 'Belgium']\n",
        "countries.append(new_countries)\n",
        "countries"
      ]
    },
    {
      "cell_type": "markdown",
      "metadata": {
        "id": "4wiq-Rg-q6hz"
      },
      "source": [
        "### pop()"
      ]
    },
    {
      "cell_type": "code",
      "source": [
        "countries.pop(-1)"
      ],
      "metadata": {
        "colab": {
          "base_uri": "https://localhost:8080/",
          "height": 165
        },
        "id": "LpvX8_ruwlN4",
        "outputId": "ef30cd70-3eb8-42b8-b0d1-d087e7539a25"
      },
      "execution_count": null,
      "outputs": [
        {
          "output_type": "error",
          "ename": "AttributeError",
          "evalue": "ignored",
          "traceback": [
            "\u001b[0;31m---------------------------------------------------------------------------\u001b[0m",
            "\u001b[0;31mAttributeError\u001b[0m                            Traceback (most recent call last)",
            "\u001b[0;32m<ipython-input-71-ddda55213553>\u001b[0m in \u001b[0;36m<module>\u001b[0;34m()\u001b[0m\n\u001b[0;32m----> 1\u001b[0;31m \u001b[0mcountries\u001b[0m \u001b[0;34m=\u001b[0m \u001b[0mcountries\u001b[0m\u001b[0;34m.\u001b[0m\u001b[0mpop\u001b[0m\u001b[0;34m(\u001b[0m\u001b[0;34m-\u001b[0m\u001b[0;36m1\u001b[0m\u001b[0;34m)\u001b[0m\u001b[0;34m\u001b[0m\u001b[0;34m\u001b[0m\u001b[0m\n\u001b[0m",
            "\u001b[0;31mAttributeError\u001b[0m: 'str' object has no attribute 'pop'"
          ]
        }
      ]
    },
    {
      "cell_type": "code",
      "source": [
        ""
      ],
      "metadata": {
        "colab": {
          "base_uri": "https://localhost:8080/",
          "height": 35
        },
        "id": "MJYKbCv2wqK9",
        "outputId": "5ba75992-aa24-4c1e-fa17-69a60ac2ada9"
      },
      "execution_count": null,
      "outputs": [
        {
          "output_type": "execute_result",
          "data": {
            "application/vnd.google.colaboratory.intrinsic+json": {
              "type": "string"
            },
            "text/plain": [
              "'Belgium'"
            ]
          },
          "metadata": {},
          "execution_count": 73
        }
      ]
    },
    {
      "cell_type": "code",
      "execution_count": null,
      "metadata": {
        "colab": {
          "base_uri": "https://localhost:8080/"
        },
        "id": "ASxFcaiHq6h0",
        "outputId": "d6248faa-7645-4dac-c2d1-025674623c03"
      },
      "outputs": [
        {
          "output_type": "execute_result",
          "data": {
            "text/plain": [
              "['Canada', 'Belgium']"
            ]
          },
          "metadata": {},
          "execution_count": 49
        }
      ],
      "source": [
        "countries.pop(-1)"
      ]
    },
    {
      "cell_type": "code",
      "execution_count": null,
      "metadata": {
        "colab": {
          "base_uri": "https://localhost:8080/"
        },
        "id": "JlsiObQzq6h0",
        "outputId": "b6a4e69d-5642-4505-f85f-ae5208725e63"
      },
      "outputs": [
        {
          "output_type": "execute_result",
          "data": {
            "text/plain": [
              "['Spain', 'Portugal', 'Brasil', 'France']"
            ]
          },
          "metadata": {},
          "execution_count": 50
        }
      ],
      "source": [
        "countries"
      ]
    },
    {
      "cell_type": "markdown",
      "metadata": {
        "id": "KrAIX94qq6h5"
      },
      "source": [
        "### extend()"
      ]
    },
    {
      "cell_type": "code",
      "execution_count": null,
      "metadata": {
        "id": "JkEV9E0zq6h6"
      },
      "outputs": [],
      "source": [
        "#create countries list again\n",
        "countries.extend(new_countries)"
      ]
    },
    {
      "cell_type": "code",
      "execution_count": null,
      "metadata": {
        "colab": {
          "base_uri": "https://localhost:8080/"
        },
        "id": "LRVr1bj2q6h6",
        "outputId": "5d85be26-296f-4759-db3c-73e1f174feca"
      },
      "outputs": [
        {
          "output_type": "execute_result",
          "data": {
            "text/plain": [
              "['Spain', 'Portugal', 'Brasil', 'France', 'Canada', 'Belgium']"
            ]
          },
          "metadata": {},
          "execution_count": 52
        }
      ],
      "source": [
        "countries"
      ]
    },
    {
      "cell_type": "code",
      "execution_count": null,
      "metadata": {
        "colab": {
          "base_uri": "https://localhost:8080/"
        },
        "id": "VA2hbPhCq6h6",
        "outputId": "b65c82b1-c209-49aa-f65b-b1b53aee0642"
      },
      "outputs": [
        {
          "output_type": "execute_result",
          "data": {
            "text/plain": [
              "6"
            ]
          },
          "metadata": {},
          "execution_count": 53
        }
      ],
      "source": [
        "len(countries)"
      ]
    },
    {
      "cell_type": "code",
      "source": [
        "countries.remove(new_countries)"
      ],
      "metadata": {
        "id": "EhuvZprjvzPy"
      },
      "execution_count": null,
      "outputs": []
    },
    {
      "cell_type": "markdown",
      "metadata": {
        "id": "FDqd5S6Rq6h7"
      },
      "source": [
        "## List of numbers"
      ]
    },
    {
      "cell_type": "code",
      "execution_count": null,
      "metadata": {
        "colab": {
          "base_uri": "https://localhost:8080/"
        },
        "id": "JoH4y7w0q6h7",
        "outputId": "1b7f5f77-bee9-461d-9b6c-f5f1885dc768"
      },
      "outputs": [
        {
          "output_type": "stream",
          "name": "stdout",
          "text": [
            "[1, -4, 3, 2]\n"
          ]
        }
      ],
      "source": [
        "n = [1,-4,3,2]\n",
        "print(n)"
      ]
    },
    {
      "cell_type": "code",
      "execution_count": null,
      "metadata": {
        "colab": {
          "base_uri": "https://localhost:8080/"
        },
        "id": "fAAdoHuzq6h8",
        "outputId": "16aa72e4-23a5-4d7b-ff9b-57ec75a1b5ba"
      },
      "outputs": [
        {
          "output_type": "execute_result",
          "data": {
            "text/plain": [
              "2"
            ]
          },
          "metadata": {},
          "execution_count": 55
        }
      ],
      "source": [
        "sum(n)"
      ]
    },
    {
      "cell_type": "code",
      "execution_count": null,
      "metadata": {
        "scrolled": true,
        "colab": {
          "base_uri": "https://localhost:8080/"
        },
        "id": "1lmZMHb4q6h8",
        "outputId": "e3ba8e05-b5d0-4c4b-f24b-2b39b6510490"
      },
      "outputs": [
        {
          "output_type": "execute_result",
          "data": {
            "text/plain": [
              "3"
            ]
          },
          "metadata": {},
          "execution_count": 56
        }
      ],
      "source": [
        "max(n)"
      ]
    },
    {
      "cell_type": "code",
      "execution_count": null,
      "metadata": {
        "colab": {
          "base_uri": "https://localhost:8080/"
        },
        "id": "QlVEqlapq6h9",
        "outputId": "67dc80f1-0fbc-45db-ae60-5da2e6e5fc4b"
      },
      "outputs": [
        {
          "output_type": "execute_result",
          "data": {
            "text/plain": [
              "4"
            ]
          },
          "metadata": {},
          "execution_count": 57
        }
      ],
      "source": [
        "abs(n[1])"
      ]
    },
    {
      "cell_type": "code",
      "execution_count": null,
      "metadata": {
        "colab": {
          "base_uri": "https://localhost:8080/"
        },
        "id": "yRk_t8PNq6h-",
        "outputId": "f9095e45-95fd-453b-bd90-ea06fccc1e51"
      },
      "outputs": [
        {
          "output_type": "execute_result",
          "data": {
            "text/plain": [
              "range(0, 4)"
            ]
          },
          "metadata": {},
          "execution_count": 58
        }
      ],
      "source": [
        "range(len(n))"
      ]
    },
    {
      "cell_type": "markdown",
      "metadata": {
        "id": "oV2MVLoLq6h-"
      },
      "source": [
        "## Dictionaries"
      ]
    },
    {
      "cell_type": "code",
      "execution_count": null,
      "metadata": {
        "colab": {
          "base_uri": "https://localhost:8080/"
        },
        "id": "IXTSJ-Mgq6h-",
        "outputId": "50664e36-4739-4195-f222-817aa5156d48"
      },
      "outputs": [
        {
          "output_type": "stream",
          "name": "stdout",
          "text": [
            "{'Student Name': 'studentname@novaims.unl.pt', 'Bruno Jardim': 'brunojardim@novaims.unl.pt'}\n"
          ]
        }
      ],
      "source": [
        "emails = {\n",
        "    'Student Name': 'studentname@novaims.unl.pt',\n",
        "    'Bruno Jardim': 'brunojardim@novaims.unl.pt'\n",
        "}\n",
        "print(emails)"
      ]
    },
    {
      "cell_type": "code",
      "execution_count": null,
      "metadata": {
        "colab": {
          "base_uri": "https://localhost:8080/"
        },
        "id": "-aDF4ZQ6q6h_",
        "outputId": "78c99573-8732-40c9-f308-5602acf5f6d7"
      },
      "outputs": [
        {
          "output_type": "execute_result",
          "data": {
            "text/plain": [
              "2"
            ]
          },
          "metadata": {},
          "execution_count": 64
        }
      ],
      "source": [
        "len(emails)"
      ]
    },
    {
      "cell_type": "code",
      "execution_count": null,
      "metadata": {
        "colab": {
          "base_uri": "https://localhost:8080/"
        },
        "id": "jWjkkL1Eq6h_",
        "outputId": "d55ff00a-ca35-4521-979a-5c9750fb56ed"
      },
      "outputs": [
        {
          "output_type": "execute_result",
          "data": {
            "text/plain": [
              "dict_keys(['Student Name', 'Bruno Jardim'])"
            ]
          },
          "metadata": {},
          "execution_count": 65
        }
      ],
      "source": [
        "emails.keys()"
      ]
    },
    {
      "cell_type": "code",
      "execution_count": null,
      "metadata": {
        "colab": {
          "base_uri": "https://localhost:8080/"
        },
        "id": "LFk6iLW_q6iA",
        "outputId": "7104648c-146b-425f-af52-8a83aab96855"
      },
      "outputs": [
        {
          "output_type": "execute_result",
          "data": {
            "text/plain": [
              "dict_values(['studentname@novaims.unl.pt', 'brunojardim@novaims.unl.pt'])"
            ]
          },
          "metadata": {},
          "execution_count": 66
        }
      ],
      "source": [
        "emails.values()"
      ]
    },
    {
      "cell_type": "code",
      "execution_count": null,
      "metadata": {
        "colab": {
          "base_uri": "https://localhost:8080/"
        },
        "id": "leTdRUsOq6iA",
        "outputId": "eb49a501-9c82-41f3-e5c8-d6fa39d750fa"
      },
      "outputs": [
        {
          "output_type": "stream",
          "name": "stdout",
          "text": [
            "['studentname@novaims.unl.pt', 'brunojardim@novaims.unl.pt']\n"
          ]
        }
      ],
      "source": [
        "list_emails = list(emails.values())\n",
        "print(list_emails)"
      ]
    },
    {
      "cell_type": "markdown",
      "metadata": {
        "id": "3ZtMlfdcq6iB"
      },
      "source": [
        "### Add element"
      ]
    },
    {
      "cell_type": "code",
      "execution_count": null,
      "metadata": {
        "colab": {
          "base_uri": "https://localhost:8080/"
        },
        "id": "xuhNCdDcq6iB",
        "outputId": "2d0b399a-c69e-4f42-958e-ef94ecf4f5d3"
      },
      "outputs": [
        {
          "output_type": "stream",
          "name": "stdout",
          "text": [
            "{'Student Name': 'studentname@novaims.unl.pt', 'Bruno Jardim': 'brunojardim@novaims.unl.pt', 'new_email': 'new_email@gmail.com'}\n"
          ]
        }
      ],
      "source": [
        "emails['new_email'] = 'new_email@gmail.com'\n",
        "print(emails)"
      ]
    },
    {
      "cell_type": "code",
      "execution_count": null,
      "metadata": {
        "colab": {
          "base_uri": "https://localhost:8080/"
        },
        "id": "mZNMKy06q6iD",
        "outputId": "60a41806-3d5e-42b1-e933-f4d1eb073ce9"
      },
      "outputs": [
        {
          "output_type": "execute_result",
          "data": {
            "text/plain": [
              "{'Bruno Jardim': 'bjardim@novaims.unl.pt',\n",
              " 'Student Name': 'studentname@novaims.unl.pt',\n",
              " 'another_name': 'another_email',\n",
              " 'new_email': 'new_email@gmail.com'}"
            ]
          },
          "metadata": {},
          "execution_count": 69
        }
      ],
      "source": [
        "emails.update({'Bruno Jardim': 'bjardim@novaims.unl.pt', \n",
        "               'another_name':'another_email'})\n",
        "emails"
      ]
    },
    {
      "cell_type": "markdown",
      "metadata": {
        "id": "yeI8I1Abq6iE"
      },
      "source": [
        "# Control Structures"
      ]
    },
    {
      "cell_type": "code",
      "execution_count": null,
      "metadata": {
        "scrolled": true,
        "colab": {
          "base_uri": "https://localhost:8080/"
        },
        "id": "panfrDK1q6iE",
        "outputId": "1efb6a7f-1918-45fc-9ec1-b42df8ed962e"
      },
      "outputs": [
        {
          "output_type": "stream",
          "name": "stdout",
          "text": [
            "Student needs to take the exam again\n"
          ]
        }
      ],
      "source": [
        "min_grade = 9.5\n",
        "student = 'Student'\n",
        "grade = 9.45\n",
        "\n",
        "if grade>=min_grade:\n",
        "    print(f'{student} passed')\n",
        "    print('Congratulations!')\n",
        "else:\n",
        "    print(f'{student} needs to take the exam again')"
      ]
    },
    {
      "cell_type": "markdown",
      "metadata": {
        "id": "NkczL0Npq6iF"
      },
      "source": [
        "### conditions"
      ]
    },
    {
      "cell_type": "code",
      "execution_count": null,
      "metadata": {
        "id": "zoL9MXsuq6iG"
      },
      "outputs": [],
      "source": [
        "a = 1\n",
        "b = 2"
      ]
    },
    {
      "cell_type": "code",
      "execution_count": null,
      "metadata": {
        "colab": {
          "base_uri": "https://localhost:8080/"
        },
        "id": "dI91FY0Bq6iG",
        "outputId": "580e1b47-f5a5-4f1e-c3e5-b93ab9d6f749"
      },
      "outputs": [
        {
          "output_type": "stream",
          "name": "stdout",
          "text": [
            "False\n"
          ]
        }
      ],
      "source": [
        "print(a==b)"
      ]
    },
    {
      "cell_type": "code",
      "execution_count": null,
      "metadata": {
        "colab": {
          "base_uri": "https://localhost:8080/"
        },
        "id": "dwdk7BXzq6iH",
        "outputId": "5406334d-2f7d-4c6a-a875-68f9ae512a9a"
      },
      "outputs": [
        {
          "output_type": "stream",
          "name": "stdout",
          "text": [
            "True\n"
          ]
        }
      ],
      "source": [
        "print(a!=b)"
      ]
    },
    {
      "cell_type": "markdown",
      "metadata": {
        "id": "Vg3OAk7zq6iH"
      },
      "source": [
        "### Loop"
      ]
    },
    {
      "cell_type": "code",
      "execution_count": null,
      "metadata": {
        "colab": {
          "base_uri": "https://localhost:8080/"
        },
        "id": "mHEuGEnjq6iI",
        "outputId": "54b694d8-e80e-41b6-9d65-a6d1c116e947"
      },
      "outputs": [
        {
          "output_type": "execute_result",
          "data": {
            "text/plain": [
              "[1, -4, 3, 2]"
            ]
          },
          "metadata": {},
          "execution_count": 87
        }
      ],
      "source": [
        "n"
      ]
    },
    {
      "cell_type": "code",
      "execution_count": null,
      "metadata": {
        "scrolled": true,
        "colab": {
          "base_uri": "https://localhost:8080/"
        },
        "id": "g6XQik4Cq6iI",
        "outputId": "2c04901a-2e02-4bbc-974a-0382d921465e"
      },
      "outputs": [
        {
          "output_type": "stream",
          "name": "stdout",
          "text": [
            "1\n",
            "-4\n",
            "3\n",
            "2\n"
          ]
        }
      ],
      "source": [
        "for number in n:\n",
        "    print(number)"
      ]
    },
    {
      "cell_type": "code",
      "execution_count": null,
      "metadata": {
        "scrolled": true,
        "colab": {
          "base_uri": "https://localhost:8080/"
        },
        "id": "oPMj7MEPq6iJ",
        "outputId": "e38eeb0d-7270-4abc-84d3-47ce97f4d6b6"
      },
      "outputs": [
        {
          "output_type": "stream",
          "name": "stdout",
          "text": [
            "0\n",
            "1\n",
            "2\n",
            "3\n",
            "4\n"
          ]
        }
      ],
      "source": [
        "for i in range(5):\n",
        "    print(i)"
      ]
    },
    {
      "cell_type": "code",
      "execution_count": null,
      "metadata": {
        "scrolled": true,
        "colab": {
          "base_uri": "https://localhost:8080/"
        },
        "id": "HlbW6fSoq6iJ",
        "outputId": "eae2bf28-f833-49cd-d91f-5d09dad17e67"
      },
      "outputs": [
        {
          "output_type": "stream",
          "name": "stdout",
          "text": [
            "0\n",
            "1\n",
            "2\n",
            "3\n"
          ]
        }
      ],
      "source": [
        "for i in range(len(n)):\n",
        "    print(i)"
      ]
    },
    {
      "cell_type": "markdown",
      "metadata": {
        "id": "XuBvi8Jxq6iK"
      },
      "source": [
        "#### looping a dictionary"
      ]
    },
    {
      "cell_type": "code",
      "execution_count": null,
      "metadata": {
        "id": "euI-B-LGq6iK"
      },
      "outputs": [],
      "source": [
        "grades = {\n",
        "    'Student1':15,\n",
        "    'Student2':8\n",
        "}"
      ]
    },
    {
      "cell_type": "code",
      "execution_count": null,
      "metadata": {
        "colab": {
          "base_uri": "https://localhost:8080/"
        },
        "id": "qqRSCJLkq6iK",
        "outputId": "aa0a72b1-ca64-4ef5-dfd9-6c60d16b62c3"
      },
      "outputs": [
        {
          "output_type": "stream",
          "name": "stdout",
          "text": [
            "Student1\n",
            "Student2\n"
          ]
        }
      ],
      "source": [
        "for s in grades:\n",
        "    print(s)"
      ]
    },
    {
      "cell_type": "code",
      "execution_count": null,
      "metadata": {
        "colab": {
          "base_uri": "https://localhost:8080/"
        },
        "id": "rH_7lAGGq6iL",
        "outputId": "8649d4b3-ce04-4f34-f72d-9b768f789587"
      },
      "outputs": [
        {
          "output_type": "stream",
          "name": "stdout",
          "text": [
            "15\n",
            "8\n"
          ]
        }
      ],
      "source": [
        "for s in grades.values():\n",
        "    print(s)"
      ]
    },
    {
      "cell_type": "code",
      "execution_count": null,
      "metadata": {
        "colab": {
          "base_uri": "https://localhost:8080/"
        },
        "id": "Jo9us3pVq6iL",
        "outputId": "e0f024f3-5c27-4e2a-bf75-f1ded71b4601"
      },
      "outputs": [
        {
          "output_type": "stream",
          "name": "stdout",
          "text": [
            "15\n",
            "8\n"
          ]
        }
      ],
      "source": [
        "for s in grades:\n",
        "    print(grades[s])"
      ]
    },
    {
      "cell_type": "code",
      "execution_count": null,
      "metadata": {
        "colab": {
          "base_uri": "https://localhost:8080/"
        },
        "id": "_n_Bhnakq6iM",
        "outputId": "87d78c40-3331-4582-c645-914b8b58375b"
      },
      "outputs": [
        {
          "output_type": "stream",
          "name": "stdout",
          "text": [
            "Student1 passed :)\n",
            "Student2 failed :(\n"
          ]
        }
      ],
      "source": [
        "for s in grades:\n",
        "    if grades[s]>=min_grade:\n",
        "        print(f'{s} passed :)')\n",
        "    else:\n",
        "        print(f'{s} failed :(')"
      ]
    },
    {
      "cell_type": "markdown",
      "metadata": {
        "id": "cvAIm8IBq6iM"
      },
      "source": [
        "## Functions"
      ]
    },
    {
      "cell_type": "code",
      "execution_count": null,
      "metadata": {
        "id": "HYAI8dviq6iO"
      },
      "outputs": [],
      "source": [
        "def grader(grades_dic, min_grade):\n",
        "    for s in grades_dic:\n",
        "        if grades_dic[s]>=min_grade:\n",
        "            print(f'{s} passed :)')\n",
        "        else:\n",
        "            print(f'{s} failed :(')"
      ]
    },
    {
      "cell_type": "code",
      "execution_count": null,
      "metadata": {
        "id": "GEivTO5kq6iP"
      },
      "outputs": [],
      "source": [
        "grader(grades_dic = grades, min_grade = 9.5)"
      ]
    },
    {
      "cell_type": "markdown",
      "metadata": {
        "id": "Xq30HFBnq6iQ"
      },
      "source": [
        "# Numpy"
      ]
    },
    {
      "cell_type": "markdown",
      "metadata": {
        "id": "Vyjc3Dhjq6iQ"
      },
      "source": [
        "#### Why do we need numpy?\n",
        "Couldn't we just use lists?\n",
        "\n",
        "- numpy arrays have extra numeric methods.\n",
        "- efficiency\n",
        "- expressiveness\n",
        "\n",
        "https://www.geeksforgeeks.org/python-lists-vs-numpy-arrays/"
      ]
    },
    {
      "cell_type": "code",
      "execution_count": null,
      "metadata": {
        "id": "4R8JPmLcq6iR"
      },
      "outputs": [],
      "source": [
        "import numpy as np"
      ]
    },
    {
      "cell_type": "code",
      "execution_count": null,
      "metadata": {
        "id": "pxIaletkq6iR"
      },
      "outputs": [],
      "source": [
        "matrix = np.array([[0,1,2],\n",
        "                  [3,4,5],\n",
        "                  [6,7,8]])"
      ]
    },
    {
      "cell_type": "code",
      "execution_count": null,
      "metadata": {
        "id": "Do7irKUKq6iS"
      },
      "outputs": [],
      "source": [
        "matrix"
      ]
    },
    {
      "cell_type": "code",
      "execution_count": null,
      "metadata": {
        "id": "qAnVB3zWq6iS"
      },
      "outputs": [],
      "source": [
        "matrix[0,0]"
      ]
    },
    {
      "cell_type": "code",
      "execution_count": null,
      "metadata": {
        "id": "kXqNwLEUq6iT"
      },
      "outputs": [],
      "source": [
        "matrix[0,1]"
      ]
    },
    {
      "cell_type": "code",
      "execution_count": null,
      "metadata": {
        "id": "7AlDc72bq6iT"
      },
      "outputs": [],
      "source": [
        "matrix[1,0]"
      ]
    },
    {
      "cell_type": "markdown",
      "metadata": {
        "id": "W_t4JuQYq6iT"
      },
      "source": [
        "#### columns and rows"
      ]
    },
    {
      "cell_type": "code",
      "execution_count": null,
      "metadata": {
        "id": "vpPJZGw8q6iU"
      },
      "outputs": [],
      "source": [
        "matrix[:,1]"
      ]
    },
    {
      "cell_type": "code",
      "execution_count": null,
      "metadata": {
        "id": "e6Z7IHaTq6iU"
      },
      "outputs": [],
      "source": [
        "matrix[0,:]"
      ]
    },
    {
      "cell_type": "markdown",
      "metadata": {
        "id": "FeDTO5nMq6iV"
      },
      "source": [
        "### extra methods"
      ]
    },
    {
      "cell_type": "code",
      "execution_count": null,
      "metadata": {
        "id": "FHYCL2F6q6iV"
      },
      "outputs": [],
      "source": [
        "matrix.mean()"
      ]
    },
    {
      "cell_type": "code",
      "execution_count": null,
      "metadata": {
        "id": "zybBVCF-q6iV"
      },
      "outputs": [],
      "source": [
        "matrix.std()"
      ]
    },
    {
      "cell_type": "code",
      "execution_count": null,
      "metadata": {
        "scrolled": true,
        "id": "9oNstIgeq6iW"
      },
      "outputs": [],
      "source": [
        "matrix.max()"
      ]
    },
    {
      "cell_type": "code",
      "execution_count": null,
      "metadata": {
        "id": "Tf9m23vmq6iW"
      },
      "outputs": [],
      "source": [
        "matrix[0,:].max()"
      ]
    },
    {
      "cell_type": "markdown",
      "metadata": {
        "id": "sEwEAm29q6iX"
      },
      "source": [
        "### Element wise operations"
      ]
    },
    {
      "cell_type": "code",
      "execution_count": null,
      "metadata": {
        "id": "HJffux1-q6iX"
      },
      "outputs": [],
      "source": [
        "matrix+1"
      ]
    },
    {
      "cell_type": "code",
      "execution_count": null,
      "metadata": {
        "id": "h6UZUDWqq6iX"
      },
      "outputs": [],
      "source": [
        "matrix*2"
      ]
    },
    {
      "cell_type": "markdown",
      "metadata": {
        "id": "r9Txs6hTq6iY"
      },
      "source": [
        "## Vectors"
      ]
    },
    {
      "cell_type": "code",
      "execution_count": null,
      "metadata": {
        "id": "DI3q4PvDq6iY"
      },
      "outputs": [],
      "source": [
        "np.ones(3)"
      ]
    },
    {
      "cell_type": "code",
      "execution_count": null,
      "metadata": {
        "id": "4pAvecIWq6iZ"
      },
      "outputs": [],
      "source": [
        "np.zeros(3)"
      ]
    },
    {
      "cell_type": "code",
      "execution_count": null,
      "metadata": {
        "id": "MUFbsjjkq6iZ"
      },
      "outputs": [],
      "source": [
        "vector = np.ones(3)"
      ]
    },
    {
      "cell_type": "code",
      "execution_count": null,
      "metadata": {
        "id": "v3l82E_6q6ia"
      },
      "outputs": [],
      "source": [
        "#row multiplication\n",
        "matrix*vector"
      ]
    },
    {
      "cell_type": "code",
      "execution_count": null,
      "metadata": {
        "id": "LCZY9ss4q6ia"
      },
      "outputs": [],
      "source": [
        "matrix"
      ]
    },
    {
      "cell_type": "code",
      "execution_count": null,
      "metadata": {
        "id": "5bf2v9nQq6ib"
      },
      "outputs": [],
      "source": [
        "matrix * np.array([1,1,2])"
      ]
    },
    {
      "cell_type": "code",
      "execution_count": null,
      "metadata": {
        "id": "6rvPJ0qzq6ib"
      },
      "outputs": [],
      "source": [
        "matrix > 4"
      ]
    },
    {
      "cell_type": "code",
      "execution_count": null,
      "metadata": {
        "id": "nm3yBNUIq6ib"
      },
      "outputs": [],
      "source": [
        "matrix[matrix>4]"
      ]
    }
  ],
  "metadata": {
    "kernelspec": {
      "display_name": "Python 3",
      "language": "python",
      "name": "python3"
    },
    "language_info": {
      "codemirror_mode": {
        "name": "ipython",
        "version": 3
      },
      "file_extension": ".py",
      "mimetype": "text/x-python",
      "name": "python",
      "nbconvert_exporter": "python",
      "pygments_lexer": "ipython3",
      "version": "3.8.8"
    },
    "colab": {
      "name": "01_python_refresher.ipynb",
      "provenance": [],
      "include_colab_link": true
    }
  },
  "nbformat": 4,
  "nbformat_minor": 0
}